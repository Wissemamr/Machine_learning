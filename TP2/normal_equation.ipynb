{
 "cells": [
  {
   "cell_type": "code",
   "execution_count": 1,
   "metadata": {},
   "outputs": [
    {
     "name": "stdout",
     "output_type": "stream",
     "text": [
      "[ 0.52804151 30.65896337]\n"
     ]
    }
   ],
   "source": [
    "import numpy as np\n",
    "from sklearn.datasets import make_regression\n",
    "\n",
    "# Create data set.\n",
    "X, y = make_regression(\n",
    "    n_samples=100, n_features=1, n_informative=1, noise=10, random_state=10\n",
    ")\n",
    "\n",
    "\n",
    "def linear_regression_normal_equation(X, y):\n",
    "    X_transpose = np.transpose(X)\n",
    "    X_transpose_X = np.dot(X_transpose, X)\n",
    "    X_transpose_y = np.dot(X_transpose, y)\n",
    "\n",
    "    try:\n",
    "        theta = np.linalg.solve(X_transpose_X, X_transpose_y)\n",
    "        return theta\n",
    "    except np.linalg.LinAlgError:\n",
    "        return None\n",
    "\n",
    "\n",
    "# Add a column of ones to X for the intercept term\n",
    "X_with_intercept = np.c_[np.ones((X.shape[0], 1)), X]\n",
    "\n",
    "theta = linear_regression_normal_equation(X_with_intercept, y)\n",
    "if theta is not None:\n",
    "    print(theta)\n",
    "else:\n",
    "    print(\"Unable to compute theta. The matrix X_transpose_X is singular.\")"
   ]
  },
  {
   "cell_type": "code",
   "execution_count": 2,
   "metadata": {},
   "outputs": [
    {
     "name": "stdout",
     "output_type": "stream",
     "text": [
      "Predictions: [ 31.18700488 123.16389501]\n"
     ]
    }
   ],
   "source": [
    "def predict(X, theta):\n",
    "    predictions = np.dot(X, theta)\n",
    "    return predictions\n",
    "\n",
    "\n",
    "# Input features for testing\n",
    "X_test = np.array([[1], [4]])\n",
    "X_test_with_intercept = np.c_[np.ones((X_test.shape[0], 1)), X_test]\n",
    "predictions = predict(X_test_with_intercept, theta)\n",
    "print(\"Predictions:\", predictions)"
   ]
  }
 ],
 "metadata": {
  "kernelspec": {
   "display_name": "Python 3",
   "language": "python",
   "name": "python3"
  },
  "language_info": {
   "codemirror_mode": {
    "name": "ipython",
    "version": 3
   },
   "file_extension": ".py",
   "mimetype": "text/x-python",
   "name": "python",
   "nbconvert_exporter": "python",
   "pygments_lexer": "ipython3",
   "version": "3.10.11"
  }
 },
 "nbformat": 4,
 "nbformat_minor": 2
}

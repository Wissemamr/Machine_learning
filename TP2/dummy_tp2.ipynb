{
 "cells": [
  {
   "cell_type": "code",
   "execution_count": 1,
   "metadata": {},
   "outputs": [],
   "source": [
    "from sklearn import datasets\n",
    "from sklearn.model_selection import train_test_split\n",
    "import numpy as np\n",
    "import matplotlib.pyplot as plt\n"
   ]
  },
  {
   "cell_type": "code",
   "execution_count": 2,
   "metadata": {},
   "outputs": [
    {
     "name": "stdout",
     "output_type": "stream",
     "text": [
      "(300, 1) (300,)\n"
     ]
    }
   ],
   "source": [
    "\n",
    "X_, y = datasets.make_regression(n_samples=300, n_features=1, noise=10, random_state=42)\n",
    "print(X_.shape, y.shape)\n"
   ]
  },
  {
   "cell_type": "code",
   "execution_count": 3,
   "metadata": {},
   "outputs": [
    {
     "name": "stdout",
     "output_type": "stream",
     "text": [
      "(300, 2)\n"
     ]
    }
   ],
   "source": [
    "X = np.hstack((X_, np.ones((X_.shape[0], 1))))\n",
    "print(X.shape)"
   ]
  },
  {
   "cell_type": "code",
   "execution_count": 4,
   "metadata": {},
   "outputs": [],
   "source": [
    "y =y.reshape(-1, 1)"
   ]
  },
  {
   "cell_type": "code",
   "execution_count": 5,
   "metadata": {},
   "outputs": [
    {
     "data": {
      "text/plain": [
       "(2, 1)"
      ]
     },
     "execution_count": 5,
     "metadata": {},
     "output_type": "execute_result"
    }
   ],
   "source": [
    "theta = np.random.randn(2, 1)\n",
    "theta.shape"
   ]
  },
  {
   "cell_type": "code",
   "execution_count": 6,
   "metadata": {},
   "outputs": [],
   "source": [
    "def predict(X, theta):\n",
    "    print('The shape', X.shape, theta.shape)\n",
    "    return np.dot(X, theta)"
   ]
  },
  {
   "cell_type": "code",
   "execution_count": 7,
   "metadata": {},
   "outputs": [
    {
     "name": "stdout",
     "output_type": "stream",
     "text": [
      "The shape (300, 2) (2, 1)\n",
      "The shape (300, 2) (2, 1)\n",
      "(300, 1)\n",
      "(300, 1)\n"
     ]
    }
   ],
   "source": [
    "predict(X, theta)\n",
    "result = predict(X, theta) \n",
    "print( y.shape)\n",
    "print(result.shape)"
   ]
  },
  {
   "cell_type": "code",
   "execution_count": null,
   "metadata": {},
   "outputs": [],
   "source": []
  },
  {
   "cell_type": "code",
   "execution_count": 8,
   "metadata": {},
   "outputs": [
    {
     "name": "stdout",
     "output_type": "stream",
     "text": [
      "The shape (300, 2) (2, 1)\n"
     ]
    },
    {
     "data": {
      "image/png": "[encoded data removed]",
      "text/plain": [
       "<Figure size 640x480 with 1 Axes>"
      ]
     },
     "metadata": {},
     "output_type": "display_data"
    }
   ],
   "source": [
    "def visualise(X, y, theta):\n",
    "    \n",
    "    plt.scatter(X[:, 0], y, color='black', s=10)\n",
    "    plt.plot(X[:, 0], predict(X, theta), color='magenta')\n",
    "    plt.show()\n",
    "    \n",
    "    \n",
    "visualise(X, y, theta)"
   ]
  },
  {
   "cell_type": "code",
   "execution_count": 9,
   "metadata": {},
   "outputs": [],
   "source": [
    "def cost_function(X, y, theta):\n",
    "    m = len(y)\n",
    "    error = predict(X, theta) - y\n",
    "    print('The error', error.shape)\n",
    "    return 1/(2*m) * np.sum(error**2)\n"
   ]
  },
  {
   "cell_type": "code",
   "execution_count": 10,
   "metadata": {},
   "outputs": [
    {
     "name": "stdout",
     "output_type": "stream",
     "text": [
      "The shape (300, 2) (2, 1)\n",
      "The error (300, 1)\n"
     ]
    },
    {
     "data": {
      "text/plain": [
       "428.04589297304085"
      ]
     },
     "execution_count": 10,
     "metadata": {},
     "output_type": "execute_result"
    }
   ],
   "source": [
    "cost_function(X, y, theta)"
   ]
  },
  {
   "cell_type": "code",
   "execution_count": 11,
   "metadata": {},
   "outputs": [],
   "source": [
    "def get_gradient(X, y, theta):\n",
    "    m = X.shape[0]\n",
    "\n",
    "    error = predict(X, theta) - y\n",
    "   \n",
    "    return 1/m * (X.T@ error)"
   ]
  },
  {
   "cell_type": "code",
   "execution_count": 12,
   "metadata": {},
   "outputs": [
    {
     "name": "stdout",
     "output_type": "stream",
     "text": [
      "The shape (300, 2) (2, 1)\n"
     ]
    },
    {
     "data": {
      "text/plain": [
       "array([[-26.96298155],\n",
       "       [ -0.52872453]])"
      ]
     },
     "execution_count": 12,
     "metadata": {},
     "output_type": "execute_result"
    }
   ],
   "source": [
    "get_gradient(X, y, theta)"
   ]
  },
  {
   "cell_type": "code",
   "execution_count": 13,
   "metadata": {},
   "outputs": [],
   "source": [
    "def gradient_descent(X = None, y= None, theta= None, learning_rate =0.01, n_iterations= 200):\n",
    "    print(X.shape, y.shape, theta.shape)\n",
    "    for _ in range(n_iterations):\n",
    "        theta -= learning_rate * get_gradient(X, y, theta)\n",
    "    return theta"
   ]
  },
  {
   "cell_type": "code",
   "execution_count": 14,
   "metadata": {},
   "outputs": [
    {
     "name": "stdout",
     "output_type": "stream",
     "text": [
      "(300, 2) (300, 1) (2, 1)\n",
      "The shape (300, 2) (2, 1)\n",
      "The shape (300, 2) (2, 1)\n",
      "The shape (300, 2) (2, 1)\n",
      "The shape (300, 2) (2, 1)\n",
      "The shape (300, 2) (2, 1)\n",
      "The shape (300, 2) (2, 1)\n",
      "The shape (300, 2) (2, 1)\n",
      "The shape (300, 2) (2, 1)\n",
      "The shape (300, 2) (2, 1)\n",
      "The shape (300, 2) (2, 1)\n",
      "The shape (300, 2) (2, 1)\n",
      "The shape (300, 2) (2, 1)\n",
      "The shape (300, 2) (2, 1)\n",
      "The shape (300, 2) (2, 1)\n",
      "The shape (300, 2) (2, 1)\n",
      "The shape (300, 2) (2, 1)\n",
      "The shape (300, 2) (2, 1)\n",
      "The shape (300, 2) (2, 1)\n",
      "The shape (300, 2) (2, 1)\n",
      "The shape (300, 2) (2, 1)\n",
      "The shape (300, 2) (2, 1)\n",
      "The shape (300, 2) (2, 1)\n",
      "The shape (300, 2) (2, 1)\n",
      "The shape (300, 2) (2, 1)\n",
      "The shape (300, 2) (2, 1)\n",
      "The shape (300, 2) (2, 1)\n",
      "The shape (300, 2) (2, 1)\n",
      "The shape (300, 2) (2, 1)\n",
      "The shape (300, 2) (2, 1)\n",
      "The shape (300, 2) (2, 1)\n",
      "The shape (300, 2) (2, 1)\n",
      "The shape (300, 2) (2, 1)\n",
      "The shape (300, 2) (2, 1)\n",
      "The shape (300, 2) (2, 1)\n",
      "The shape (300, 2) (2, 1)\n",
      "The shape (300, 2) (2, 1)\n",
      "The shape (300, 2) (2, 1)\n",
      "The shape (300, 2) (2, 1)\n",
      "The shape (300, 2) (2, 1)\n",
      "The shape (300, 2) (2, 1)\n",
      "The shape (300, 2) (2, 1)\n",
      "The shape (300, 2) (2, 1)\n",
      "The shape (300, 2) (2, 1)\n",
      "The shape (300, 2) (2, 1)\n",
      "The shape (300, 2) (2, 1)\n",
      "The shape (300, 2) (2, 1)\n",
      "The shape (300, 2) (2, 1)\n",
      "The shape (300, 2) (2, 1)\n",
      "The shape (300, 2) (2, 1)\n",
      "The shape (300, 2) (2, 1)\n",
      "The shape (300, 2) (2, 1)\n",
      "The shape (300, 2) (2, 1)\n",
      "The shape (300, 2) (2, 1)\n",
      "The shape (300, 2) (2, 1)\n",
      "The shape (300, 2) (2, 1)\n",
      "The shape (300, 2) (2, 1)\n",
      "The shape (300, 2) (2, 1)\n",
      "The shape (300, 2) (2, 1)\n",
      "The shape (300, 2) (2, 1)\n",
      "The shape (300, 2) (2, 1)\n",
      "The shape (300, 2) (2, 1)\n",
      "The shape (300, 2) (2, 1)\n",
      "The shape (300, 2) (2, 1)\n",
      "The shape (300, 2) (2, 1)\n",
      "The shape (300, 2) (2, 1)\n",
      "The shape (300, 2) (2, 1)\n",
      "The shape (300, 2) (2, 1)\n",
      "The shape (300, 2) (2, 1)\n",
      "The shape (300, 2) (2, 1)\n",
      "The shape (300, 2) (2, 1)\n",
      "The shape (300, 2) (2, 1)\n",
      "The shape (300, 2) (2, 1)\n",
      "The shape (300, 2) (2, 1)\n",
      "The shape (300, 2) (2, 1)\n",
      "The shape (300, 2) (2, 1)\n",
      "The shape (300, 2) (2, 1)\n",
      "The shape (300, 2) (2, 1)\n",
      "The shape (300, 2) (2, 1)\n",
      "The shape (300, 2) (2, 1)\n",
      "The shape (300, 2) (2, 1)\n",
      "The shape (300, 2) (2, 1)\n",
      "The shape (300, 2) (2, 1)\n",
      "The shape (300, 2) (2, 1)\n",
      "The shape (300, 2) (2, 1)\n",
      "The shape (300, 2) (2, 1)\n",
      "The shape (300, 2) (2, 1)\n",
      "The shape (300, 2) (2, 1)\n",
      "The shape (300, 2) (2, 1)\n",
      "The shape (300, 2) (2, 1)\n",
      "The shape (300, 2) (2, 1)\n",
      "The shape (300, 2) (2, 1)\n",
      "The shape (300, 2) (2, 1)\n",
      "The shape (300, 2) (2, 1)\n",
      "The shape (300, 2) (2, 1)\n",
      "The shape (300, 2) (2, 1)\n",
      "The shape (300, 2) (2, 1)\n",
      "The shape (300, 2) (2, 1)\n",
      "The shape (300, 2) (2, 1)\n",
      "The shape (300, 2) (2, 1)\n",
      "The shape (300, 2) (2, 1)\n",
      "The shape (300, 2) (2, 1)\n",
      "The shape (300, 2) (2, 1)\n",
      "The shape (300, 2) (2, 1)\n",
      "The shape (300, 2) (2, 1)\n",
      "The shape (300, 2) (2, 1)\n",
      "The shape (300, 2) (2, 1)\n",
      "The shape (300, 2) (2, 1)\n",
      "The shape (300, 2) (2, 1)\n",
      "The shape (300, 2) (2, 1)\n",
      "The shape (300, 2) (2, 1)\n",
      "The shape (300, 2) (2, 1)\n",
      "The shape (300, 2) (2, 1)\n",
      "The shape (300, 2) (2, 1)\n",
      "The shape (300, 2) (2, 1)\n",
      "The shape (300, 2) (2, 1)\n",
      "The shape (300, 2) (2, 1)\n",
      "The shape (300, 2) (2, 1)\n",
      "The shape (300, 2) (2, 1)\n",
      "The shape (300, 2) (2, 1)\n",
      "The shape (300, 2) (2, 1)\n",
      "The shape (300, 2) (2, 1)\n",
      "The shape (300, 2) (2, 1)\n",
      "The shape (300, 2) (2, 1)\n",
      "The shape (300, 2) (2, 1)\n",
      "The shape (300, 2) (2, 1)\n",
      "The shape (300, 2) (2, 1)\n",
      "The shape (300, 2) (2, 1)\n",
      "The shape (300, 2) (2, 1)\n",
      "The shape (300, 2) (2, 1)\n",
      "The shape (300, 2) (2, 1)\n",
      "The shape (300, 2) (2, 1)\n",
      "The shape (300, 2) (2, 1)\n",
      "The shape (300, 2) (2, 1)\n",
      "The shape (300, 2) (2, 1)\n",
      "The shape (300, 2) (2, 1)\n",
      "The shape (300, 2) (2, 1)\n",
      "The shape (300, 2) (2, 1)\n",
      "The shape (300, 2) (2, 1)\n",
      "The shape (300, 2) (2, 1)\n",
      "The shape (300, 2) (2, 1)\n",
      "The shape (300, 2) (2, 1)\n",
      "The shape (300, 2) (2, 1)\n",
      "The shape (300, 2) (2, 1)\n",
      "The shape (300, 2) (2, 1)\n",
      "The shape (300, 2) (2, 1)\n",
      "The shape (300, 2) (2, 1)\n",
      "The shape (300, 2) (2, 1)\n",
      "The shape (300, 2) (2, 1)\n",
      "The shape (300, 2) (2, 1)\n",
      "The shape (300, 2) (2, 1)\n",
      "The shape (300, 2) (2, 1)\n",
      "The shape (300, 2) (2, 1)\n",
      "The shape (300, 2) (2, 1)\n",
      "The shape (300, 2) (2, 1)\n",
      "The shape (300, 2) (2, 1)\n",
      "The shape (300, 2) (2, 1)\n",
      "The shape (300, 2) (2, 1)\n",
      "The shape (300, 2) (2, 1)\n",
      "The shape (300, 2) (2, 1)\n",
      "The shape (300, 2) (2, 1)\n",
      "The shape (300, 2) (2, 1)\n",
      "The shape (300, 2) (2, 1)\n",
      "The shape (300, 2) (2, 1)\n",
      "The shape (300, 2) (2, 1)\n",
      "The shape (300, 2) (2, 1)\n",
      "The shape (300, 2) (2, 1)\n",
      "The shape (300, 2) (2, 1)\n",
      "The shape (300, 2) (2, 1)\n",
      "The shape (300, 2) (2, 1)\n",
      "The shape (300, 2) (2, 1)\n",
      "The shape (300, 2) (2, 1)\n",
      "The shape (300, 2) (2, 1)\n",
      "The shape (300, 2) (2, 1)\n",
      "The shape (300, 2) (2, 1)\n",
      "The shape (300, 2) (2, 1)\n",
      "The shape (300, 2) (2, 1)\n",
      "The shape (300, 2) (2, 1)\n",
      "The shape (300, 2) (2, 1)\n",
      "The shape (300, 2) (2, 1)\n",
      "The shape (300, 2) (2, 1)\n",
      "The shape (300, 2) (2, 1)\n",
      "The shape (300, 2) (2, 1)\n",
      "The shape (300, 2) (2, 1)\n",
      "The shape (300, 2) (2, 1)\n",
      "The shape (300, 2) (2, 1)\n",
      "The shape (300, 2) (2, 1)\n",
      "The shape (300, 2) (2, 1)\n",
      "The shape (300, 2) (2, 1)\n",
      "The shape (300, 2) (2, 1)\n",
      "The shape (300, 2) (2, 1)\n",
      "The shape (300, 2) (2, 1)\n",
      "The shape (300, 2) (2, 1)\n",
      "The shape (300, 2) (2, 1)\n",
      "The shape (300, 2) (2, 1)\n",
      "The shape (300, 2) (2, 1)\n",
      "The shape (300, 2) (2, 1)\n",
      "The shape (300, 2) (2, 1)\n",
      "The shape (300, 2) (2, 1)\n",
      "The shape (300, 2) (2, 1)\n",
      "The shape (300, 2) (2, 1)\n"
     ]
    },
    {
     "data": {
      "text/plain": [
       "array([[24.08163562],\n",
       "       [ 0.23884146]])"
      ]
     },
     "execution_count": 14,
     "metadata": {},
     "output_type": "execute_result"
    }
   ],
   "source": [
    "gradient_descent(X, y, theta, learning_rate=0.01, n_iterations=200)"
   ]
  },
  {
   "cell_type": "code",
   "execution_count": 15,
   "metadata": {},
   "outputs": [
    {
     "name": "stdout",
     "output_type": "stream",
     "text": [
      "The shape (300, 2) (2, 1)\n"
     ]
    },
    {
     "data": {
      "text/plain": [
       "array([[-1.47567815e+01],\n",
       "       [-5.84341273e+00],\n",
       "       [-4.13000013e+01],\n",
       "       [-1.61372661e+01],\n",
       "       [-9.04014018e+00],\n",
       "       [ 8.45433900e+00],\n",
       "       [-9.20376421e+00],\n",
       "       [ 2.00353947e+01],\n",
       "       [ 9.28626424e+00],\n",
       "       [ 2.33507723e+00],\n",
       "       [ 6.06568871e+00],\n",
       "       [ 6.49724421e+00],\n",
       "       [-1.33019619e+01],\n",
       "       [ 2.56960737e+01],\n",
       "       [ 4.27538672e+01],\n",
       "       [-7.01222802e+00],\n",
       "       [ 1.88932965e+01],\n",
       "       [ 7.50059468e+00],\n",
       "       [-2.54615834e+00],\n",
       "       [ 2.37315637e+01],\n",
       "       [ 2.44859104e+00],\n",
       "       [-4.22180491e+01],\n",
       "       [ 2.34385144e+01],\n",
       "       [ 1.66046668e+01],\n",
       "       [ 1.58362408e+01],\n",
       "       [-3.42013021e+01],\n",
       "       [ 2.06986496e+01],\n",
       "       [-2.84496953e+01],\n",
       "       [ 2.81397180e+01],\n",
       "       [ 3.58289473e+01],\n",
       "       [-1.13004579e+01],\n",
       "       [-1.25186507e+01],\n",
       "       [-4.77308274e+00],\n",
       "       [-7.65179896e+00],\n",
       "       [-1.54527607e+01],\n",
       "       [ 2.44055550e+01],\n",
       "       [ 2.19026779e+01],\n",
       "       [-5.67050574e+00],\n",
       "       [ 2.64625529e+01],\n",
       "       [-1.05139689e+01],\n",
       "       [ 5.29885957e+01],\n",
       "       [-9.03456970e+00],\n",
       "       [-2.98098185e+01],\n",
       "       [-2.10458913e+01],\n",
       "       [ 2.26655899e+01],\n",
       "       [-8.61937924e-02],\n",
       "       [ 1.54013338e+01],\n",
       "       [ 4.56612830e+01],\n",
       "       [-1.14223070e+01],\n",
       "       [ 1.98296667e+01],\n",
       "       [-1.95245311e+01],\n",
       "       [ 1.23997611e+01],\n",
       "       [ 5.59796056e+01],\n",
       "       [-3.17460510e+01],\n",
       "       [ 1.26417331e+01],\n",
       "       [-9.89098593e+00],\n",
       "       [ 1.13670489e+01],\n",
       "       [-4.76250689e+01],\n",
       "       [-7.51692662e+00],\n",
       "       [ 3.55340611e+01],\n",
       "       [ 5.16057739e+01],\n",
       "       [-2.94023845e+01],\n",
       "       [ 1.90664150e+01],\n",
       "       [-4.85299044e+01],\n",
       "       [ 1.26420322e+01],\n",
       "       [ 5.39456899e+00],\n",
       "       [-1.94072046e+01],\n",
       "       [ 2.63204868e+01],\n",
       "       [-1.83720538e+01],\n",
       "       [-2.85677706e+01],\n",
       "       [ 7.29650597e+00],\n",
       "       [ 2.75851194e+01],\n",
       "       [-1.69868418e+01],\n",
       "       [ 2.57662763e+00],\n",
       "       [-3.53663864e+01],\n",
       "       [ 9.99146345e+00],\n",
       "       [-1.14495066e+01],\n",
       "       [-3.62411574e+01],\n",
       "       [-1.09766928e+01],\n",
       "       [ 4.40932141e+00],\n",
       "       [-5.39955943e+00],\n",
       "       [-1.42512379e+01],\n",
       "       [-3.63500724e+01],\n",
       "       [-2.74789665e+01],\n",
       "       [ 2.08623252e+01],\n",
       "       [-2.33974922e+01],\n",
       "       [ 2.82497271e+01],\n",
       "       [ 2.00315981e+01],\n",
       "       [-2.16606959e+01],\n",
       "       [-5.41040041e+00],\n",
       "       [ 4.85270302e-01],\n",
       "       [-2.52325677e+01],\n",
       "       [-1.39540259e+01],\n",
       "       [ 1.80223246e+01],\n",
       "       [ 4.36566996e+00],\n",
       "       [ 1.78680945e+00],\n",
       "       [ 8.85494630e+00],\n",
       "       [-1.52966974e+01],\n",
       "       [ 1.09267392e+01],\n",
       "       [ 1.98138908e+01],\n",
       "       [ 1.92881846e+01],\n",
       "       [ 6.52547940e+00],\n",
       "       [-3.84719841e+01],\n",
       "       [-7.20749831e+00],\n",
       "       [ 2.91003884e+00],\n",
       "       [ 3.69158915e+01],\n",
       "       [-5.19822114e+00],\n",
       "       [-6.23908164e-01],\n",
       "       [-5.14250791e+00],\n",
       "       [-1.54943951e+01],\n",
       "       [ 6.44107612e+00],\n",
       "       [ 3.28993196e+01],\n",
       "       [ 4.97958200e+00],\n",
       "       [-1.10668696e+01],\n",
       "       [-4.58360762e+01],\n",
       "       [ 3.75637970e+01],\n",
       "       [-2.86662593e+01],\n",
       "       [ 9.51791419e+00],\n",
       "       [ 2.97252480e+00],\n",
       "       [ 1.60497262e+01],\n",
       "       [ 3.52423195e+01],\n",
       "       [ 1.53059345e+01],\n",
       "       [ 8.21620670e+00],\n",
       "       [ 1.55046484e+01],\n",
       "       [-3.29376903e+01],\n",
       "       [ 4.72896632e+00],\n",
       "       [-1.73495816e+01],\n",
       "       [-3.40714252e+01],\n",
       "       [ 5.13438337e+01],\n",
       "       [-1.11260498e+01],\n",
       "       [ 3.61981855e-01],\n",
       "       [-1.60625475e+01],\n",
       "       [ 5.26861844e+00],\n",
       "       [-5.39995479e+00],\n",
       "       [-3.37717417e+01],\n",
       "       [ 2.77598840e+01],\n",
       "       [-1.18856758e+01],\n",
       "       [ 8.83635830e+00],\n",
       "       [-1.08540936e+01],\n",
       "       [-4.47279585e+01],\n",
       "       [-3.09078906e+00],\n",
       "       [ 8.83869628e+00],\n",
       "       [ 1.26116475e+01],\n",
       "       [-2.91610705e+01],\n",
       "       [ 1.43713201e+01],\n",
       "       [-3.99656032e-01],\n",
       "       [-2.95489548e+01],\n",
       "       [-1.92310069e+01],\n",
       "       [ 6.27111900e+00],\n",
       "       [ 3.79180198e+01],\n",
       "       [ 3.82688690e+01],\n",
       "       [-2.57150156e+01],\n",
       "       [ 3.17169770e+01],\n",
       "       [ 2.56161185e+01],\n",
       "       [-1.70961845e+01],\n",
       "       [ 1.83466188e+01],\n",
       "       [ 2.01587670e+01],\n",
       "       [ 5.45151834e+00],\n",
       "       [-1.19462648e+00],\n",
       "       [-3.50049922e+01],\n",
       "       [ 2.00470683e+01],\n",
       "       [-7.81649542e+00],\n",
       "       [-2.23455194e+01],\n",
       "       [ 1.91978983e+00],\n",
       "       [ 7.36990207e+00],\n",
       "       [-1.42153627e+01],\n",
       "       [-1.79123582e+01],\n",
       "       [ 1.49690070e+01],\n",
       "       [ 3.72772776e+01],\n",
       "       [-1.49528005e+00],\n",
       "       [-1.99708891e+01],\n",
       "       [ 1.98057922e+01],\n",
       "       [-1.51499788e+00],\n",
       "       [-1.66677453e+01],\n",
       "       [-2.19023979e+01],\n",
       "       [-2.55500015e+01],\n",
       "       [ 1.74331412e+01],\n",
       "       [ 2.22832217e+01],\n",
       "       [-3.35200250e+01],\n",
       "       [ 1.91931261e+01],\n",
       "       [-3.43390677e+01],\n",
       "       [ 1.33045747e+01],\n",
       "       [-1.68029968e+01],\n",
       "       [-3.71036703e+01],\n",
       "       [-8.01428465e+00],\n",
       "       [-1.03581495e+01],\n",
       "       [ 4.51697434e+01],\n",
       "       [ 1.87199250e+01],\n",
       "       [ 2.63860932e+00],\n",
       "       [ 1.88995003e+00],\n",
       "       [ 1.67651093e+01],\n",
       "       [ 1.85160617e+01],\n",
       "       [ 1.01792813e+01],\n",
       "       [-1.56980590e+01],\n",
       "       [ 1.68928342e+00],\n",
       "       [-2.97605859e+01],\n",
       "       [ 6.90200846e+00],\n",
       "       [-4.39352521e+00],\n",
       "       [-6.96174461e+00],\n",
       "       [ 7.00558523e+00],\n",
       "       [ 7.80643121e+00],\n",
       "       [-2.16278635e+01],\n",
       "       [ 4.59167189e+01],\n",
       "       [ 4.68512676e+00],\n",
       "       [-6.78562114e+00],\n",
       "       [-1.61789382e+00],\n",
       "       [-3.85979945e+01],\n",
       "       [-1.88463542e+01],\n",
       "       [ 1.16495132e+01],\n",
       "       [ 4.48447298e+01],\n",
       "       [-4.23213037e+00],\n",
       "       [ 1.39868187e+01],\n",
       "       [ 1.18575664e+01],\n",
       "       [ 3.40204229e+01],\n",
       "       [ 2.23424584e+01],\n",
       "       [-7.35335762e+00],\n",
       "       [ 1.44064820e+01],\n",
       "       [ 3.38728840e+00],\n",
       "       [ 8.94183874e+00],\n",
       "       [ 1.33628590e+00],\n",
       "       [-2.95697803e+01],\n",
       "       [-2.01533363e+01],\n",
       "       [ 2.07668304e+01],\n",
       "       [ 2.21050465e+00],\n",
       "       [-1.18442888e+01],\n",
       "       [-2.79048372e+01],\n",
       "       [-1.64475549e+01],\n",
       "       [-2.52419972e+00],\n",
       "       [-3.64518228e+00],\n",
       "       [-1.22419531e+01],\n",
       "       [-5.05121690e+00],\n",
       "       [-1.11986185e+01],\n",
       "       [ 8.51373190e+00],\n",
       "       [ 2.32127643e+01],\n",
       "       [ 5.95577404e+01],\n",
       "       [-1.69639091e+01],\n",
       "       [-2.44300885e+01],\n",
       "       [ 7.39071814e+00],\n",
       "       [ 5.18685218e+01],\n",
       "       [-7.78161776e+01],\n",
       "       [ 5.03252451e+00],\n",
       "       [ 5.51948278e-01],\n",
       "       [-2.32330874e+01],\n",
       "       [ 8.15570589e+00],\n",
       "       [ 3.94079344e+00],\n",
       "       [ 6.57449641e+01],\n",
       "       [ 1.64060260e+00],\n",
       "       [-2.20831604e+01],\n",
       "       [ 8.58188100e+00],\n",
       "       [ 3.49470596e+01],\n",
       "       [-6.13452797e+00],\n",
       "       [-3.01253065e+01],\n",
       "       [ 4.44296073e+00],\n",
       "       [ 1.16351775e+01],\n",
       "       [ 7.63911654e+00],\n",
       "       [-1.33985341e+01],\n",
       "       [-2.41517885e+01],\n",
       "       [-4.67706256e+01],\n",
       "       [-6.28489056e+01],\n",
       "       [ 1.25991608e+01],\n",
       "       [-1.28707850e+01],\n",
       "       [ 2.10876426e+01],\n",
       "       [-2.64035143e+01],\n",
       "       [ 5.83189036e+00],\n",
       "       [-5.97074734e-01],\n",
       "       [ 1.37434501e+01],\n",
       "       [-1.86231789e+01],\n",
       "       [ 1.28080481e+01],\n",
       "       [ 2.50669963e+01],\n",
       "       [ 1.22005307e+01],\n",
       "       [-2.04029145e+01],\n",
       "       [-1.55393796e+00],\n",
       "       [-3.38456010e+01],\n",
       "       [ 3.07481341e+01],\n",
       "       [ 3.95499757e+01],\n",
       "       [ 1.59254082e+01],\n",
       "       [-1.42255206e+01],\n",
       "       [ 8.04331352e+00],\n",
       "       [ 2.35653972e+01],\n",
       "       [ 9.96904696e+00],\n",
       "       [-2.36148934e+01],\n",
       "       [-2.53431695e+01],\n",
       "       [-2.11821209e+01],\n",
       "       [-3.41639190e+00],\n",
       "       [-4.59683078e+01],\n",
       "       [ 9.30189173e+01],\n",
       "       [-1.90813074e+01],\n",
       "       [ 5.71644872e+00],\n",
       "       [-5.46413794e+00],\n",
       "       [ 1.86503107e+00],\n",
       "       [-2.72857528e+01],\n",
       "       [ 1.16437218e+01],\n",
       "       [-4.69532204e+01],\n",
       "       [ 2.51022936e+01],\n",
       "       [-1.09210146e+01],\n",
       "       [-3.15599135e+01],\n",
       "       [ 8.94762844e+00],\n",
       "       [ 3.84327205e+01],\n",
       "       [ 1.61840311e+01],\n",
       "       [-1.16334274e+01]])"
      ]
     },
     "execution_count": 15,
     "metadata": {},
     "output_type": "execute_result"
    }
   ],
   "source": [
    "predict(X, theta)"
   ]
  },
  {
   "cell_type": "code",
   "execution_count": 16,
   "metadata": {},
   "outputs": [
    {
     "name": "stdout",
     "output_type": "stream",
     "text": [
      "The shape"
     ]
    },
    {
     "name": "stdout",
     "output_type": "stream",
     "text": [
      " (300, 2) (2, 1)\n"
     ]
    },
    {
     "data": {
      "image/png": "[encoded data removed]",
      "text/plain": [
       "<Figure size 640x480 with 1 Axes>"
      ]
     },
     "metadata": {},
     "output_type": "display_data"
    }
   ],
   "source": [
    "visualise(X, y, theta)"
   ]
  },
  {
   "cell_type": "code",
   "execution_count": null,
   "metadata": {},
   "outputs": [],
   "source": []
  },
  {
   "cell_type": "code",
   "execution_count": null,
   "metadata": {},
   "outputs": [],
   "source": []
  }
 ],
 "metadata": {
  "kernelspec": {
   "display_name": "Python 3",
   "language": "python",
   "name": "python3"
  },
  "language_info": {
   "codemirror_mode": {
    "name": "ipython",
    "version": 3
   },
   "file_extension": ".py",
   "mimetype": "text/x-python",
   "name": "python",
   "nbconvert_exporter": "python",
   "pygments_lexer": "ipython3",
   "version": "3.10.11"
  }
 },
 "nbformat": 4,
 "nbformat_minor": 2
}
